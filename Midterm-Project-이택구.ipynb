{
 "cells": [
  {
   "cell_type": "markdown",
   "id": "a74f3a4a",
   "metadata": {},
   "source": [
    "# Kaggle Project - Mobile Price Classification\n",
    "\n",
    "#### URL : https://www.kaggle.com/datasets/iabhishekofficial/mobile-price-classification\n",
    "#### 2022121097 / 이택구"
   ]
  },
  {
   "cell_type": "markdown",
   "id": "c19f3b87",
   "metadata": {},
   "source": [
    "**Task:**\n",
    "\n",
    "#### 핸드폰 가격을 알아보는 모델\n",
    "\n",
    "##### 데이터셋 : 총 2,000 개\n",
    "\n",
    "##### 휴대폰 가격은 4가지 범위로 되어 있으며\n",
    "0: 저렴한 가격<br>\n",
    "1: 중간 가격<br>\n",
    "2: 높은 가격<br>\n",
    "3: 매우 높은 가격<br>\n",
    "\n",
    "\n",
    "##### 컬럼은 총 21 가지로 되어 있고 CPU clock 속도, 4G, 메모리, 화면 폭과 높이, 와이파이 등의 정보를 가지고 있다.\n",
    "\n",
    "##### 데이터 파일  (train.csv, test.csv)\n",
    "1) train.csv 파일은 모델학습 데이터셋으로 사용<br>\n",
    "2) test.csv 파일은 정답 정보가 없어서 진행에서 제외<br>\n",
    "\n",
    "#### - 진행 절차\n",
    "1) CNNModel 클래스를 작성<br>\n",
    "2) CNNModel 모델 성능 확인 (20 ~ 30%) - 저조한 성능확인<br>\n",
    "3) LinearRegression 성능확인 (30 ~ 50%) - 중간 성능 확인<br>\n",
    "4) DecisionTreeClassifier, SVC 모델 확인 (90 ~ 100%) - 우수한 성능 확인<br>\n",
    "\n",
    "#### - 결론\n",
    "성능 확인 결과 : DecisionTreeClassifier, SVC 이 96 ~ 100% 의 성능을 확인하였으며 DecisionTreeClassifier 와 SVC 모델이 우수한 것으로 확인되었다."
   ]
  },
  {
   "cell_type": "markdown",
   "id": "0d6871b2",
   "metadata": {},
   "source": [
    "**Datasets:**\n",
    "\n",
    "* Training dataset : 총 갯수의 85% 로 지정<br>\n",
    "* Validation dataset : 총 갯수의 15%로 지정<br>\n",
    "* Test dataset : 랜덤으로 100를 추출하여 테스트<br>\n",
    "   ( 정답이 있는 실제 데이터 내에서 램덤으로 추출하여 사용 )<br>"
   ]
  },
  {
   "cell_type": "markdown",
   "id": "3a35f0c7",
   "metadata": {},
   "source": [
    "**Features(x):**\n",
    "\n",
    "- 컬럼 index 0 ~ 19 : feature(x)<br><br>\n",
    "\n",
    "- Data columns : 20 columns<br>\n",
    "\n",
    "<pre>\n",
    "| #  |  Column         |  Dtype   |\n",
    "|----| --------------  |  ------- |\n",
    "| 0  |  battery_power  |  int64   |\n",
    "| 1  |  blue           |  int64   |\n",
    "| 2  |  clock_speed    |  float64 |\n",
    "| 3  |  dual_sim       |  int64   |\n",
    "| 4  |  fc             |  int64   |\n",
    "| 5  |  four_g         |  int64   |\n",
    "| 6  |  int_memory     |  int64   |\n",
    "| 7  |  m_dep          |  float64 |\n",
    "| 8  |  mobile_wt      |  int64   |\n",
    "| 9  |  n_cores        |  int64   |\n",
    "| 10 |  pc             |  int64   |\n",
    "| 11 |  px_height      |  int64   |\n",
    "| 12 |  px_width       |  int64   |\n",
    "| 13 |  ram            |  int64   |\n",
    "| 14 |  sc_h           |  int64   |\n",
    "| 15 |  sc_w           |  int64   |\n",
    "| 16 |  talk_time      |  int64   |\n",
    "| 17 |  three_g        |  int64   |\n",
    "| 18 |  touch_screen   |  int64   |\n",
    "| 19 |  wifi           |  int64   |\n",
    "</pre>\n",
    "\n"
   ]
  },
  {
   "cell_type": "markdown",
   "id": "530c73de",
   "metadata": {},
   "source": [
    "**Target(y):**\n",
    "\n",
    "- 컬럼 index 20 : target(y)<br><br>\n",
    "\n",
    "- Data columns : 1 column<br>\n",
    "\n",
    "<pre>\n",
    "| #  |  Column         |  Dtype   |\n",
    "|----| --------------  |  ------- |\n",
    "| 20 |  price_range    |  int64   |\n",
    "</pre>\n",
    "\n",
    "- Data Range : 0, 1, 2, 3\n"
   ]
  },
  {
   "cell_type": "code",
   "execution_count": 1,
   "id": "b86e6d9a",
   "metadata": {},
   "outputs": [],
   "source": [
    "import torch\n",
    "import torch.nn as nn\n",
    "import torch.optim as optim\n",
    "import pandas as pd \n",
    "import numpy as np\n",
    "import matplotlib.pyplot as plt"
   ]
  },
  {
   "cell_type": "markdown",
   "id": "e2c6add6",
   "metadata": {},
   "source": [
    "### Data preprocessing (데이터 수집 및 분석)"
   ]
  },
  {
   "cell_type": "code",
   "execution_count": 2,
   "id": "dd4bf494",
   "metadata": {},
   "outputs": [],
   "source": [
    "mob_data = pd.read_csv('./data/train.csv')"
   ]
  },
  {
   "cell_type": "code",
   "execution_count": 3,
   "id": "c3774fe7",
   "metadata": {},
   "outputs": [
    {
     "name": "stdout",
     "output_type": "stream",
     "text": [
      "<class 'pandas.core.frame.DataFrame'>\n",
      "RangeIndex: 2000 entries, 0 to 1999\n",
      "Data columns (total 21 columns):\n",
      " #   Column         Non-Null Count  Dtype  \n",
      "---  ------         --------------  -----  \n",
      " 0   battery_power  2000 non-null   int64  \n",
      " 1   blue           2000 non-null   int64  \n",
      " 2   clock_speed    2000 non-null   float64\n",
      " 3   dual_sim       2000 non-null   int64  \n",
      " 4   fc             2000 non-null   int64  \n",
      " 5   four_g         2000 non-null   int64  \n",
      " 6   int_memory     2000 non-null   int64  \n",
      " 7   m_dep          2000 non-null   float64\n",
      " 8   mobile_wt      2000 non-null   int64  \n",
      " 9   n_cores        2000 non-null   int64  \n",
      " 10  pc             2000 non-null   int64  \n",
      " 11  px_height      2000 non-null   int64  \n",
      " 12  px_width       2000 non-null   int64  \n",
      " 13  ram            2000 non-null   int64  \n",
      " 14  sc_h           2000 non-null   int64  \n",
      " 15  sc_w           2000 non-null   int64  \n",
      " 16  talk_time      2000 non-null   int64  \n",
      " 17  three_g        2000 non-null   int64  \n",
      " 18  touch_screen   2000 non-null   int64  \n",
      " 19  wifi           2000 non-null   int64  \n",
      " 20  price_range    2000 non-null   int64  \n",
      "dtypes: float64(2), int64(19)\n",
      "memory usage: 328.2 KB\n"
     ]
    }
   ],
   "source": [
    "mob_data.info()"
   ]
  },
  {
   "cell_type": "code",
   "execution_count": 4,
   "id": "572f3e45",
   "metadata": {
    "scrolled": true
   },
   "outputs": [
    {
     "data": {
      "text/html": [
       "<div>\n",
       "<style scoped>\n",
       "    .dataframe tbody tr th:only-of-type {\n",
       "        vertical-align: middle;\n",
       "    }\n",
       "\n",
       "    .dataframe tbody tr th {\n",
       "        vertical-align: top;\n",
       "    }\n",
       "\n",
       "    .dataframe thead th {\n",
       "        text-align: right;\n",
       "    }\n",
       "</style>\n",
       "<table border=\"1\" class=\"dataframe\">\n",
       "  <thead>\n",
       "    <tr style=\"text-align: right;\">\n",
       "      <th></th>\n",
       "      <th>battery_power</th>\n",
       "      <th>blue</th>\n",
       "      <th>clock_speed</th>\n",
       "      <th>dual_sim</th>\n",
       "      <th>fc</th>\n",
       "      <th>four_g</th>\n",
       "      <th>int_memory</th>\n",
       "      <th>m_dep</th>\n",
       "      <th>mobile_wt</th>\n",
       "      <th>n_cores</th>\n",
       "      <th>...</th>\n",
       "      <th>px_height</th>\n",
       "      <th>px_width</th>\n",
       "      <th>ram</th>\n",
       "      <th>sc_h</th>\n",
       "      <th>sc_w</th>\n",
       "      <th>talk_time</th>\n",
       "      <th>three_g</th>\n",
       "      <th>touch_screen</th>\n",
       "      <th>wifi</th>\n",
       "      <th>price_range</th>\n",
       "    </tr>\n",
       "  </thead>\n",
       "  <tbody>\n",
       "    <tr>\n",
       "      <th>0</th>\n",
       "      <td>842</td>\n",
       "      <td>0</td>\n",
       "      <td>2.2</td>\n",
       "      <td>0</td>\n",
       "      <td>1</td>\n",
       "      <td>0</td>\n",
       "      <td>7</td>\n",
       "      <td>0.6</td>\n",
       "      <td>188</td>\n",
       "      <td>2</td>\n",
       "      <td>...</td>\n",
       "      <td>20</td>\n",
       "      <td>756</td>\n",
       "      <td>2549</td>\n",
       "      <td>9</td>\n",
       "      <td>7</td>\n",
       "      <td>19</td>\n",
       "      <td>0</td>\n",
       "      <td>0</td>\n",
       "      <td>1</td>\n",
       "      <td>1</td>\n",
       "    </tr>\n",
       "    <tr>\n",
       "      <th>1</th>\n",
       "      <td>1021</td>\n",
       "      <td>1</td>\n",
       "      <td>0.5</td>\n",
       "      <td>1</td>\n",
       "      <td>0</td>\n",
       "      <td>1</td>\n",
       "      <td>53</td>\n",
       "      <td>0.7</td>\n",
       "      <td>136</td>\n",
       "      <td>3</td>\n",
       "      <td>...</td>\n",
       "      <td>905</td>\n",
       "      <td>1988</td>\n",
       "      <td>2631</td>\n",
       "      <td>17</td>\n",
       "      <td>3</td>\n",
       "      <td>7</td>\n",
       "      <td>1</td>\n",
       "      <td>1</td>\n",
       "      <td>0</td>\n",
       "      <td>2</td>\n",
       "    </tr>\n",
       "    <tr>\n",
       "      <th>2</th>\n",
       "      <td>563</td>\n",
       "      <td>1</td>\n",
       "      <td>0.5</td>\n",
       "      <td>1</td>\n",
       "      <td>2</td>\n",
       "      <td>1</td>\n",
       "      <td>41</td>\n",
       "      <td>0.9</td>\n",
       "      <td>145</td>\n",
       "      <td>5</td>\n",
       "      <td>...</td>\n",
       "      <td>1263</td>\n",
       "      <td>1716</td>\n",
       "      <td>2603</td>\n",
       "      <td>11</td>\n",
       "      <td>2</td>\n",
       "      <td>9</td>\n",
       "      <td>1</td>\n",
       "      <td>1</td>\n",
       "      <td>0</td>\n",
       "      <td>2</td>\n",
       "    </tr>\n",
       "    <tr>\n",
       "      <th>3</th>\n",
       "      <td>615</td>\n",
       "      <td>1</td>\n",
       "      <td>2.5</td>\n",
       "      <td>0</td>\n",
       "      <td>0</td>\n",
       "      <td>0</td>\n",
       "      <td>10</td>\n",
       "      <td>0.8</td>\n",
       "      <td>131</td>\n",
       "      <td>6</td>\n",
       "      <td>...</td>\n",
       "      <td>1216</td>\n",
       "      <td>1786</td>\n",
       "      <td>2769</td>\n",
       "      <td>16</td>\n",
       "      <td>8</td>\n",
       "      <td>11</td>\n",
       "      <td>1</td>\n",
       "      <td>0</td>\n",
       "      <td>0</td>\n",
       "      <td>2</td>\n",
       "    </tr>\n",
       "    <tr>\n",
       "      <th>4</th>\n",
       "      <td>1821</td>\n",
       "      <td>1</td>\n",
       "      <td>1.2</td>\n",
       "      <td>0</td>\n",
       "      <td>13</td>\n",
       "      <td>1</td>\n",
       "      <td>44</td>\n",
       "      <td>0.6</td>\n",
       "      <td>141</td>\n",
       "      <td>2</td>\n",
       "      <td>...</td>\n",
       "      <td>1208</td>\n",
       "      <td>1212</td>\n",
       "      <td>1411</td>\n",
       "      <td>8</td>\n",
       "      <td>2</td>\n",
       "      <td>15</td>\n",
       "      <td>1</td>\n",
       "      <td>1</td>\n",
       "      <td>0</td>\n",
       "      <td>1</td>\n",
       "    </tr>\n",
       "  </tbody>\n",
       "</table>\n",
       "<p>5 rows × 21 columns</p>\n",
       "</div>"
      ],
      "text/plain": [
       "   battery_power  blue  clock_speed  dual_sim  fc  four_g  int_memory  m_dep  \\\n",
       "0            842     0          2.2         0   1       0           7    0.6   \n",
       "1           1021     1          0.5         1   0       1          53    0.7   \n",
       "2            563     1          0.5         1   2       1          41    0.9   \n",
       "3            615     1          2.5         0   0       0          10    0.8   \n",
       "4           1821     1          1.2         0  13       1          44    0.6   \n",
       "\n",
       "   mobile_wt  n_cores  ...  px_height  px_width   ram  sc_h  sc_w  talk_time  \\\n",
       "0        188        2  ...         20       756  2549     9     7         19   \n",
       "1        136        3  ...        905      1988  2631    17     3          7   \n",
       "2        145        5  ...       1263      1716  2603    11     2          9   \n",
       "3        131        6  ...       1216      1786  2769    16     8         11   \n",
       "4        141        2  ...       1208      1212  1411     8     2         15   \n",
       "\n",
       "   three_g  touch_screen  wifi  price_range  \n",
       "0        0             0     1            1  \n",
       "1        1             1     0            2  \n",
       "2        1             1     0            2  \n",
       "3        1             0     0            2  \n",
       "4        1             1     0            1  \n",
       "\n",
       "[5 rows x 21 columns]"
      ]
     },
     "execution_count": 4,
     "metadata": {},
     "output_type": "execute_result"
    }
   ],
   "source": [
    "mob_data.head()"
   ]
  },
  {
   "cell_type": "code",
   "execution_count": 5,
   "id": "63f1b1af",
   "metadata": {},
   "outputs": [
    {
     "data": {
      "text/plain": [
       "(2000, 21)"
      ]
     },
     "execution_count": 5,
     "metadata": {},
     "output_type": "execute_result"
    }
   ],
   "source": [
    "mob_data.shape"
   ]
  },
  {
   "cell_type": "code",
   "execution_count": 6,
   "id": "f3e37a14",
   "metadata": {},
   "outputs": [
    {
     "data": {
      "text/plain": [
       "1    500\n",
       "2    500\n",
       "3    500\n",
       "0    500\n",
       "Name: price_range, dtype: int64"
      ]
     },
     "execution_count": 6,
     "metadata": {},
     "output_type": "execute_result"
    }
   ],
   "source": [
    "# 가격 범위별 건수 확인\n",
    "\n",
    "mob_data[\"price_range\"].value_counts()"
   ]
  },
  {
   "cell_type": "code",
   "execution_count": 7,
   "id": "243f39f4",
   "metadata": {},
   "outputs": [
    {
     "data": {
      "image/png": "[encoded data removed]",
      "text/plain": [
       "<Figure size 1200x300 with 1 Axes>"
      ]
     },
     "metadata": {},
     "output_type": "display_data"
    }
   ],
   "source": [
    "# 가격 범위별 비율 확인\n",
    "\n",
    "plt.figure(figsize=(12,3))\n",
    "\n",
    "plt.subplot(1, 2, 2)\n",
    "plt.pie(mob_data[\"price_range\"].value_counts(), labels = [\"low cost\", \"medium cost\",\"high cost\",\"very high cost\"], autopct = \"%2.1f%%\")\n",
    "\n",
    "plt.show()"
   ]
  },
  {
   "cell_type": "markdown",
   "id": "456ec256",
   "metadata": {},
   "source": [
    "### Split Train Data (Train 데이터 분할)"
   ]
  },
  {
   "cell_type": "code",
   "execution_count": 8,
   "id": "2d122223",
   "metadata": {
    "scrolled": true
   },
   "outputs": [],
   "source": [
    "# index 0 ~ 19 : feature(x)\n",
    "# index 20 : target(y)\n",
    "\n",
    "mdata_x    = mob_data.values[:, :20]\n",
    "mdata_y    = mob_data.values[:, 20:]\n",
    "data_len   = len(mdata_x)\n",
    "\n",
    "# Train 데이터 분리 (85%)\n",
    "train_len  = int(data_len * 0.85)\n",
    "train_idxs = np.random.choice(data_len, train_len, replace=False)\n",
    "train_x    = mdata_x[train_idxs]\n",
    "train_y    = mdata_y[train_idxs]\n",
    "\n",
    "# Validation 데이터 분리 (15%)\n",
    "val_idxs   = [idx for idx in range(data_len) if idx not in train_idxs]\n",
    "val_x      = mdata_x[val_idxs]\n",
    "val_y      = mdata_y[val_idxs]"
   ]
  },
  {
   "cell_type": "markdown",
   "id": "103d6106",
   "metadata": {},
   "source": [
    "### Model Construction"
   ]
  },
  {
   "cell_type": "code",
   "execution_count": 9,
   "id": "cfefe069",
   "metadata": {},
   "outputs": [],
   "source": [
    "#\n",
    "# CNN 모델 클래스\n",
    "#\n",
    "class CnnModel(nn.Module):\n",
    "    # 모델 초기화\n",
    "    def __init__(self):\n",
    "        super(CnnModel, self).__init__()\n",
    "        \n",
    "        self.conv_layer = nn.Sequential(\n",
    "            # 휴대폰 데이터가 \n",
    "            nn.Conv1d(1, 16, 3),\n",
    "            nn.ReLU(),\n",
    "\n",
    "            nn.Conv1d(16, 32, 3),\n",
    "            nn.ReLU(),\n",
    "\n",
    "            nn.Conv1d(32, 64, 3),\n",
    "            nn.ReLU(),\n",
    "            nn.MaxPool1d(2, 2)\n",
    "        )\n",
    "        \n",
    "        # fully con = 64 * 7 = conv_layer output\n",
    "        self.fc_layer = nn.Sequential(\n",
    "            nn.Linear(64*7, 1000),\n",
    "            nn.ReLU(),\n",
    "            nn.Linear(1000, 4)\n",
    "        )\n",
    "        \n",
    "    def forward(self,x):\n",
    "        out = self.conv_layer(x)\n",
    "        # print('out.shape: ', out.shape)\n",
    "        out = out.view(-1,64*7)\n",
    "        out = self.fc_layer(out)\n",
    "\n",
    "        return out"
   ]
  },
  {
   "cell_type": "code",
   "execution_count": 10,
   "id": "5d935fac",
   "metadata": {},
   "outputs": [],
   "source": [
    "# classification 모델 설정\n",
    "\n",
    "from sklearn.linear_model import LogisticRegression\n",
    "from sklearn.tree import DecisionTreeClassifier\n",
    "from sklearn.svm import SVC"
   ]
  },
  {
   "cell_type": "code",
   "execution_count": 11,
   "id": "2f42895a",
   "metadata": {},
   "outputs": [],
   "source": [
    "# CNN 모델 선언\n",
    "\n",
    "model_cnn = CnnModel()"
   ]
  },
  {
   "cell_type": "code",
   "execution_count": 12,
   "id": "d207331b",
   "metadata": {},
   "outputs": [],
   "source": [
    "# LR, DT, SVC 모델 선언\n",
    "\n",
    "model_lr = LogisticRegression(fit_intercept=True,\n",
    "                              solver='lbfgs',\n",
    "                              random_state=0) # Loss function is fixed to BCE.\n",
    "\n",
    "model_dt = DecisionTreeClassifier(criterion='gini',\n",
    "                                  splitter='best',\n",
    "                                  max_depth=10,\n",
    "                                  random_state=0)\n",
    "\n",
    "model_svc = SVC(C=1.0, kernel='rbf', gamma='scale')"
   ]
  },
  {
   "cell_type": "markdown",
   "id": "2aae9712",
   "metadata": {},
   "source": [
    "### Train Model & Select Model"
   ]
  },
  {
   "cell_type": "code",
   "execution_count": 13,
   "id": "bafbf98a",
   "metadata": {},
   "outputs": [],
   "source": [
    "# CNN 손실함수 \n",
    "\n",
    "cnn_loss = nn.CrossEntropyLoss()\n",
    "optimizer = optim.SGD(model_cnn.parameters(), lr=0.01)"
   ]
  },
  {
   "cell_type": "code",
   "execution_count": 14,
   "id": "aea0bc2d",
   "metadata": {},
   "outputs": [],
   "source": [
    "# LR, DT, SVC 모델 선정\n",
    "models = [model_lr, model_dt, model_svc]\n",
    "\n",
    "def accuracy(pre, y):\n",
    "    return sum(pre==y)/len(y)"
   ]
  },
  {
   "cell_type": "markdown",
   "id": "42eb9d6b",
   "metadata": {},
   "source": [
    "### Training Dataset 을 통한 모델 학습"
   ]
  },
  {
   "cell_type": "code",
   "execution_count": 15,
   "id": "85a919c4",
   "metadata": {
    "scrolled": true
   },
   "outputs": [
    {
     "name": "stdout",
     "output_type": "stream",
     "text": [
      "Epoch [1/10], Loss: 8.3668\n",
      "Epoch [2/10], Loss: 3444.2993\n",
      "Epoch [3/10], Loss: 336.4549\n",
      "Epoch [4/10], Loss: 4135.6895\n",
      "Epoch [5/10], Loss: 15810066.0000\n",
      "Epoch [6/10], Loss: 136616976.0000\n",
      "Epoch [7/10], Loss: 15347906248704.0000\n",
      "Epoch [8/10], Loss: 309695856106107568899751936.0000\n",
      "Epoch [9/10], Loss: 136176539530014597914296320.0000\n",
      "Epoch [10/10], Loss: 976305899515057563302690828582912.0000\n"
     ]
    }
   ],
   "source": [
    "num_epochs = 10\n",
    "\n",
    "# CNN 모델의 학습\n",
    "for epoch in range(num_epochs):\n",
    "    # array to tensor 변환\n",
    "    np_arr    = np.array(train_x).reshape(train_x.shape[0], 1, train_x.shape[1])\n",
    "    tensor_x  = torch.Tensor(np_arr)\n",
    "    np_arr    = np.array(train_y).reshape(-1,)\n",
    "    tensor_y  = torch.LongTensor(np_arr)\n",
    "\n",
    "    pre       = model_cnn(tensor_x)\n",
    "    cost      = cnn_loss(pre, tensor_y)\n",
    "\n",
    "    optimizer.zero_grad()\n",
    "    cost.backward()\n",
    "    optimizer.step()\n",
    "\n",
    "    print('Epoch [%d/%d], Loss: %.4f' %(epoch+1, num_epochs, cost.item()))"
   ]
  },
  {
   "cell_type": "code",
   "execution_count": 16,
   "id": "cd4dfd5e",
   "metadata": {
    "scrolled": true
   },
   "outputs": [
    {
     "name": "stderr",
     "output_type": "stream",
     "text": [
      "C:\\ProgramData\\Anaconda3\\lib\\site-packages\\sklearn\\utils\\validation.py:993: DataConversionWarning: A column-vector y was passed when a 1d array was expected. Please change the shape of y to (n_samples, ), for example using ravel().\n",
      "  y = column_or_1d(y, warn=True)\n",
      "C:\\ProgramData\\Anaconda3\\lib\\site-packages\\sklearn\\linear_model\\_logistic.py:814: ConvergenceWarning: lbfgs failed to converge (status=1):\n",
      "STOP: TOTAL NO. of ITERATIONS REACHED LIMIT.\n",
      "\n",
      "Increase the number of iterations (max_iter) or scale the data as shown in:\n",
      "    https://scikit-learn.org/stable/modules/preprocessing.html\n",
      "Please also refer to the documentation for alternative solver options:\n",
      "    https://scikit-learn.org/stable/modules/linear_model.html#logistic-regression\n",
      "  n_iter_i = _check_optimize_result(\n",
      "C:\\ProgramData\\Anaconda3\\lib\\site-packages\\sklearn\\utils\\validation.py:993: DataConversionWarning: A column-vector y was passed when a 1d array was expected. Please change the shape of y to (n_samples, ), for example using ravel().\n",
      "  y = column_or_1d(y, warn=True)\n"
     ]
    },
    {
     "name": "stdout",
     "output_type": "stream",
     "text": [
      "LogisticRegression(random_state=0) [0.25588235 0.24529412 0.25352941 ... 0.25352941 0.25352941 0.25588235]\n",
      "DecisionTreeClassifier(max_depth=10, random_state=0) [0.24529412 0.25588235 0.25588235 ... 0.24529412 0.25352941 0.25588235]\n",
      "SVC() [0.24529412 0.25588235 0.25588235 ... 0.24529412 0.25352941 0.25588235]\n",
      "LogisticRegression(random_state=0) 0.2505777777777778\n",
      "DecisionTreeClassifier(max_depth=10, random_state=0) 0.25255555555555553\n",
      "SVC() 0.2534222222222222\n"
     ]
    }
   ],
   "source": [
    "# LR, DT, SVC 모델\n",
    "# 모델별 모델 학습 진행\n",
    "\n",
    "for model in models:\n",
    "    model.fit(train_x, train_y)\n",
    "    pre = model.predict(train_x)\n",
    "    \n",
    "    acc = accuracy(pre, train_y)\n",
    "    \n",
    "    print(model, acc)\n",
    "\n",
    "for model in models:\n",
    "    pre = model.predict(val_x)\n",
    "    \n",
    "    acc = accuracy(pre, val_y)\n",
    "    \n",
    "    print(model, acc.mean())"
   ]
  },
  {
   "cell_type": "markdown",
   "id": "14388850",
   "metadata": {},
   "source": [
    "### Performance (Test dataset을 통한 성능 확인)"
   ]
  },
  {
   "cell_type": "code",
   "execution_count": 17,
   "id": "ce2553fa",
   "metadata": {},
   "outputs": [],
   "source": [
    "# 테스트 데이터 생성\n",
    "\n",
    "test_len   = 100\n",
    "test_idxs  = np.random.choice(data_len, test_len, replace=False)"
   ]
  },
  {
   "cell_type": "code",
   "execution_count": 18,
   "id": "d828cdfa",
   "metadata": {
    "scrolled": true
   },
   "outputs": [
    {
     "name": "stdout",
     "output_type": "stream",
     "text": [
      "LogisticRegression(random_state=0) 0.57\n",
      "DecisionTreeClassifier(max_depth=10, random_state=0) 0.97\n",
      "SVC() 0.98\n"
     ]
    }
   ],
   "source": [
    "# LogisticRegression 모델\n",
    "# DecisionTreeClassifier 모델\n",
    "# SVC 모델\n",
    "# 모델의 성능 확인\n",
    "\n",
    "test_data  = mdata_x[test_idxs]\n",
    "test_y     = (mdata_y[test_idxs]).astype(np.int32).reshape(-1,)\n",
    "\n",
    "best_model = {}\n",
    "max_cocnt = 0\n",
    "for idx, model in enumerate(models):\n",
    "    pre = model.predict(test_data).astype(np.int32)\n",
    "\n",
    "    tcnt = (pre == test_y).astype(np.int32).sum()\n",
    "    if tcnt > max_cocnt :\n",
    "        max_cocnt = tcnt\n",
    "        best_model = model\n",
    "\n",
    "    print(model, tcnt / test_len)\n"
   ]
  },
  {
   "cell_type": "code",
   "execution_count": 19,
   "id": "b89ea833",
   "metadata": {},
   "outputs": [
    {
     "name": "stdout",
     "output_type": "stream",
     "text": [
      "Accuracy of CNN Model: 27.000000 %\n"
     ]
    }
   ],
   "source": [
    "# CNN 모델\n",
    "# 모델의 성능 확인\n",
    "\n",
    "test_data    = mdata_x[test_idxs]\n",
    "test_y       = mdata_y[test_idxs]\n",
    "\n",
    "cnn_correct  = 0\n",
    "\n",
    "for i, test_x in enumerate(test_data):\n",
    "    np_arr    = np.array(test_x).reshape(1, 1, test_x.shape[0])\n",
    "    tensor_x  = torch.Tensor(np_arr)\n",
    "    tensor_y  = int(test_y[i])\n",
    "\n",
    "    outputs   = model_cnn(tensor_x)\n",
    "\n",
    "    _, predicted = torch.max(outputs.data, 1)\n",
    "    # print ('predicted: ', predicted.item(), tensor_y)\n",
    "\n",
    "    cnn_correct += (predicted == tensor_y).sum()\n",
    "\n",
    "print('Accuracy of CNN Model: %f %%' % (100 * float(cnn_correct) / test_len))\n",
    "\n",
    "if cnn_correct > max_cocnt :\n",
    "    max_cocnt = tcnt\n",
    "    best_model = model_cnn"
   ]
  },
  {
   "cell_type": "code",
   "execution_count": 20,
   "id": "29c79d11",
   "metadata": {},
   "outputs": [
    {
     "name": "stdout",
     "output_type": "stream",
     "text": [
      "**********************************************************************\n",
      "*** Best Model:  SVC()\n",
      "*** 정확도: 98.000000 %\n",
      "**********************************************************************\n"
     ]
    }
   ],
   "source": [
    "# Best 모델 선정\n",
    "\n",
    "print('**********************************************************************')\n",
    "print('*** Best Model: ', best_model)\n",
    "print('*** 정확도: %f %%' % (100 * float(max_cocnt) / test_len))\n",
    "print('**********************************************************************')"
   ]
  },
  {
   "cell_type": "code",
   "execution_count": null,
   "id": "cfd15fae",
   "metadata": {},
   "outputs": [],
   "source": []
  }
 ],
 "metadata": {
  "kernelspec": {
   "display_name": "Python 3 (ipykernel)",
   "language": "python",
   "name": "python3"
  },
  "language_info": {
   "codemirror_mode": {
    "name": "ipython",
    "version": 3
   },
   "file_extension": ".py",
   "mimetype": "text/x-python",
   "name": "python",
   "nbconvert_exporter": "python",
   "pygments_lexer": "ipython3",
   "version": "3.9.13"
  }
 },
 "nbformat": 4,
 "nbformat_minor": 5
}
